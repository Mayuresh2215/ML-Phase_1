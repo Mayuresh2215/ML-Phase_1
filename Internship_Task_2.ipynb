{
 "cells": [
  {
   "cell_type": "code",
   "execution_count": null,
   "id": "140362f2",
   "metadata": {},
   "outputs": [
    {
     "name": "stdout",
     "output_type": "stream",
     "text": [
      "Welcome to College Admission Bot! How can I assist you today?\n",
      "User: Hello\n",
      "Bot: I'm sorry, I couldn't understand your question. Please try again or type 'exit' to end the conversation.\n",
      "User: what are the requirements for process\n",
      "Bot: Here are the admission requirements: ...\n"
     ]
    }
   ],
   "source": [
    "class AdmissionBot:\n",
    "    def __init__(self):\n",
    "        self.user_context = {}\n",
    "\n",
    "    def start_chat(self):\n",
    "        print(\"Welcome to College Admission Bot! How can I assist you today?\")\n",
    "        while True:\n",
    "            user_input = input(\"User: \")\n",
    "            if user_input.lower() == \"exit\":\n",
    "                print(\"Goodbye!\")\n",
    "                break\n",
    "            response = self.generate_response(user_input)\n",
    "            print(\"Bot:\", response)\n",
    "\n",
    "    def generate_response(self, user_input):\n",
    "        if \"deadline\" in user_input:\n",
    "            return self.handle_deadline_query()\n",
    "        elif \"procedure\" in user_input:\n",
    "            return self.handle_procedure_query()\n",
    "        elif \"requirement\" in user_input:\n",
    "            return self.handle_requirement_query()\n",
    "        else:\n",
    "            return \"I'm sorry, I couldn't understand your question. Please try again or type 'exit' to end the conversation.\"\n",
    "\n",
    "    def handle_deadline_query(self):\n",
    "        if \"application_details\" in self.user_context:\n",
    "            program = self.user_context[\"application_details\"][\"program\"]\n",
    "            deadline = self.fetch_deadline_from_backend(program)\n",
    "            return f\"The admission deadline for {program} is {deadline}.\"\n",
    "        else:\n",
    "            return \"Please provide your admission application details first.\"\n",
    "\n",
    "    def handle_procedure_query(self):\n",
    "        # Logic to handle procedure query\n",
    "        return \"Here are the general admission procedures: ...\"\n",
    "\n",
    "    def handle_requirement_query(self):\n",
    "        # Logic to handle requirement query\n",
    "        return \"Here are the admission requirements: ...\"\n",
    "\n",
    "    def fetch_deadline_from_backend(self, program):\n",
    "        # Simulated function to fetch deadline from backend\n",
    "        return \"30th March 2024\"\n",
    "\n",
    "\n",
    "if __name__ == \"__main__\":\n",
    "    admission_bot = AdmissionBot()\n",
    "    admission_bot.start_chat()\n"
   ]
  },
  {
   "cell_type": "code",
   "execution_count": null,
   "id": "2ddb4ac6",
   "metadata": {},
   "outputs": [],
   "source": []
  }
 ],
 "metadata": {
  "kernelspec": {
   "display_name": "Python 3 (ipykernel)",
   "language": "python",
   "name": "python3"
  },
  "language_info": {
   "codemirror_mode": {
    "name": "ipython",
    "version": 3
   },
   "file_extension": ".py",
   "mimetype": "text/x-python",
   "name": "python",
   "nbconvert_exporter": "python",
   "pygments_lexer": "ipython3",
   "version": "3.9.13"
  }
 },
 "nbformat": 4,
 "nbformat_minor": 5
}
