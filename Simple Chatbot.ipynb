{
 "cells": [
  {
   "cell_type": "code",
   "execution_count": 1,
   "id": "7852e005",
   "metadata": {},
   "outputs": [
    {
     "name": "stdout",
     "output_type": "stream",
     "text": [
      "Hello! I'm your simple chatbot. How can I help you today?\n",
      "User: Mayuresh\n",
      "Chatbot: I'm sorry, I don't understand. Can you please rephrase or ask a different question?\n",
      "User: How are you\n",
      "Chatbot: I'm just a computer program, but thanks for asking!\n",
      "User: How old you are\n",
      "Chatbot: I'm sorry, I don't understand. Can you please rephrase or ask a different question?\n",
      "Goodbye! Have a great day.\n"
     ]
    }
   ],
   "source": [
    "class SimpleChatbot:\n",
    "    def __init__(self):\n",
    "        self.context = {}\n",
    "\n",
    "    def greet(self):\n",
    "        return \"Hello! I'm your simple chatbot. How can I help you today?\"\n",
    "\n",
    "    def farewell(self):\n",
    "        return \"Goodbye! Have a great day.\"\n",
    "\n",
    "    def handle_user_input(self, user_input):\n",
    "        # Basic error handling\n",
    "        if not user_input:\n",
    "            return \"I'm sorry, I didn't understand that. Can you please provide a valid input?\"\n",
    "\n",
    "        # Check for greetings\n",
    "        if any(word in user_input.lower() for word in ['hello', 'hi', 'hey']):\n",
    "            return self.greet()\n",
    "\n",
    "        # Check for farewell\n",
    "        if any(word in user_input.lower() for word in ['bye', 'goodbye']):\n",
    "            return self.farewell()\n",
    "\n",
    "        # Check for basic questions\n",
    "        if 'how are you' in user_input.lower():\n",
    "            return \"I'm just a computer program, but thanks for asking!\"\n",
    "\n",
    "        if 'your name' in user_input.lower():\n",
    "            return \"I'm a chatbot, no specific name. You can call me Chatbot.\"\n",
    "\n",
    "        # Previous context handling\n",
    "        if 'remember' in user_input.lower() and 'last interaction' in user_input.lower():\n",
    "            if 'last_response' in self.context:\n",
    "                return f\"You previously said: {self.context['last_response']}\"\n",
    "            else:\n",
    "                return \"I don't have any previous interactions stored yet.\"\n",
    "\n",
    "        # User interaction flow\n",
    "        if 'ask user' in user_input.lower():\n",
    "            self.context['last_response'] = input(\"What do you want to ask me? \")\n",
    "            return f\"Interesting! You asked: {self.context['last_response']}\"\n",
    "\n",
    "        return \"I'm sorry, I don't understand. Can you please rephrase or ask a different question?\"\n",
    "\n",
    "# Main function for testing the chatbot\n",
    "def main():\n",
    "    chatbot = SimpleChatbot()\n",
    "\n",
    "    print(chatbot.greet())\n",
    "\n",
    "    for _ in range(3):\n",
    "        user_input = input(\"User: \")\n",
    "        response = chatbot.handle_user_input(user_input)\n",
    "        print(\"Chatbot:\", response)\n",
    "\n",
    "    print(chatbot.farewell())\n",
    "\n",
    "if __name__ == \"__main__\":\n",
    "    main()\n"
   ]
  },
  {
   "cell_type": "code",
   "execution_count": null,
   "id": "dca3d6fe",
   "metadata": {},
   "outputs": [],
   "source": []
  }
 ],
 "metadata": {
  "kernelspec": {
   "display_name": "Python 3 (ipykernel)",
   "language": "python",
   "name": "python3"
  },
  "language_info": {
   "codemirror_mode": {
    "name": "ipython",
    "version": 3
   },
   "file_extension": ".py",
   "mimetype": "text/x-python",
   "name": "python",
   "nbconvert_exporter": "python",
   "pygments_lexer": "ipython3",
   "version": "3.9.13"
  }
 },
 "nbformat": 4,
 "nbformat_minor": 5
}
